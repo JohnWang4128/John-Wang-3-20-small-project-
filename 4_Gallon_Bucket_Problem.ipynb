{
  "nbformat": 4,
  "nbformat_minor": 0,
  "metadata": {
    "colab": {
      "provenance": []
    },
    "kernelspec": {
      "name": "python3",
      "display_name": "Python 3"
    },
    "language_info": {
      "name": "python"
    }
  },
  "cells": [
    {
      "cell_type": "code",
      "execution_count": 1,
      "metadata": {
        "colab": {
          "base_uri": "https://localhost:8080/"
        },
        "id": "qGr5-WCXOxHm",
        "outputId": "6e7a3c4e-e24c-4819-93f4-671b4976f394"
      },
      "outputs": [
        {
          "output_type": "stream",
          "name": "stdout",
          "text": [
            "Solution steps:\n",
            "Step 1: 3-gallon = 3, 5-gallon = 0\n",
            "Step 2: 3-gallon = 0, 5-gallon = 3\n",
            "Step 3: 3-gallon = 3, 5-gallon = 3\n",
            "Step 4: 3-gallon = 1, 5-gallon = 5\n",
            "Step 5: 3-gallon = 1, 5-gallon = 0\n",
            "Step 6: 3-gallon = 0, 5-gallon = 1\n",
            "Step 7: 3-gallon = 3, 5-gallon = 1\n",
            "Step 8: 3-gallon = 0, 5-gallon = 4\n",
            "\n",
            "Success! We measured exactly 4 gallons in the 5-gallon bucket.\n"
          ]
        }
      ],
      "source": [
        "def water_jug_solution():\n",
        "    # Initialize the buckets\n",
        "    B3 = 0  # 3-gallon bucket\n",
        "    B5 = 0  # 5-gallon bucket\n",
        "    steps = []  # Track the steps\n",
        "\n",
        "    # Step 1: Fill B3\n",
        "    B3 = 3\n",
        "    steps.append((B3, B5))\n",
        "\n",
        "    # Step 2: Pour from B3 to B5\n",
        "    B5 += B3\n",
        "    B3 = 0\n",
        "    steps.append((B3, B5))\n",
        "\n",
        "    # Step 3: Fill B3 again\n",
        "    B3 = 3\n",
        "    steps.append((B3, B5))\n",
        "\n",
        "    # Step 4: Pour from B3 to B5 (until B5 is full)\n",
        "    B5 += B3\n",
        "    B3 = B5 - 5  # Remaining water in B3\n",
        "    B5 = 5\n",
        "    steps.append((B3, B5))\n",
        "\n",
        "    # Step 5: Empty B5\n",
        "    B5 = 0\n",
        "    steps.append((B3, B5))\n",
        "\n",
        "    # Step 6: Pour remaining 1 gallon from B3 to B5\n",
        "    B5 = B3\n",
        "    B3 = 0\n",
        "    steps.append((B3, B5))\n",
        "\n",
        "    # Step 7: Fill B3 again\n",
        "    B3 = 3\n",
        "    steps.append((B3, B5))\n",
        "\n",
        "    # Step 8: Pour from B3 to B5 until B5 is full (this results in exactly 4 gallons in B5)\n",
        "    B5 += B3\n",
        "    B3 = 0\n",
        "    steps.append((B3, B5))\n",
        "\n",
        "    # Print the solution steps\n",
        "    print(\"Solution steps:\")\n",
        "    for i, (b3, b5) in enumerate(steps, 1):\n",
        "        print(f\"Step {i}: 3-gallon = {b3}, 5-gallon = {b5}\")\n",
        "\n",
        "    if B5 == 4:\n",
        "        print(\"\\nSuccess! We measured exactly 4 gallons in the 5-gallon bucket.\")\n",
        "\n",
        "# Run the solution\n",
        "water_jug_solution()\n"
      ]
    }
  ]
}